{
 "cells": [
  {
   "cell_type": "code",
   "execution_count": 1,
   "metadata": {},
   "outputs": [],
   "source": [
    "from run_inference import infer, process_input"
   ]
  },
  {
   "cell_type": "code",
   "execution_count": null,
   "metadata": {},
   "outputs": [],
   "source": [
    "import torch"
   ]
  },
  {
   "cell_type": "code",
   "execution_count": null,
   "metadata": {},
   "outputs": [],
   "source": [
    "device = torch.device('cuda' if torch.cuda.is_available() else 'cpu')"
   ]
  },
  {
   "cell_type": "code",
   "execution_count": 22,
   "metadata": {},
   "outputs": [],
   "source": [
    "prompt = \"Filter out content promoting unhealthy eating habits.\"\n",
    "prompt_type=\"suppress\"\n",
    "prompt_category=\"health\""
   ]
  },
  {
   "cell_type": "code",
   "execution_count": 33,
   "metadata": {},
   "outputs": [
    {
     "name": "stdout",
     "output_type": "stream",
     "text": [
      "(2048,)\n",
      "(2048,)\n",
      "(2048,)\n",
      "(2048,)\n"
     ]
    }
   ],
   "source": [
    "data = [\n",
    "    process_input(\n",
    "        title=\"\"\"Researchers Went Through High Schoolers' Trash to Find Out Which Tobacco Products They're Using\n",
    "\"\"\",\n",
    "        abstract=\"\"\"Here's what they found and why it's important.\n",
    "\"\"\",\n",
    "        prompt=prompt,\n",
    "        prompt_type=prompt_type,\n",
    "        post_category= 'health',\n",
    "        prompt_category=prompt_category\n",
    "    ),\n",
    "    process_input(\n",
    "        title=\"\"\"7 Signs of Disease Your Teeth Can Reveal\n",
    "\"\"\",\n",
    "        abstract=\"\"\"These red flags of dental problems in your mouth may signal a health issue happening elsewhere in the body.\n",
    "\"\"\",\n",
    "        prompt=prompt,\n",
    "        prompt_type=prompt_type,\n",
    "        post_category= 'health',\n",
    "        prompt_category=prompt_category\n",
    "    ),\n",
    "    process_input(\n",
    "        title=\"\"\"His Mood Changed and Our Marriage Imploded. Then He Took a Blood Test.\n",
    "\"\"\",\n",
    "        abstract=\"\"\"His condition came on so gradually he couldn't tell he had changed.\n",
    "\"\"\",\n",
    "        prompt=prompt,\n",
    "        prompt_type=prompt_type,\n",
    "        post_category= 'health',\n",
    "        prompt_category=prompt_category\n",
    "    ),\n",
    "    process_input(\n",
    "        title=\"\"\"Elton John's farewell tour returning to Tampa's Amalie Arena\n",
    "\"\"\",\n",
    "        abstract=\"\"\"Elton John definitely knows how to make a dramatic exit. About a week after his blockbuster farewell tour brought him to a sold-out Amalie Arena in Tampa, John has announced a second farewell tour stop in our fair city next spring. He'll return to Amalie Arena on May 26. Tickets start at $65.75 and go on sale at 10 a.m. Nov. 22. Click here for details. There were rumors floating around that ...\n",
    "\"\"\",\n",
    "        prompt=prompt,\n",
    "        prompt_type=prompt_type,\n",
    "        post_category= 'music',\n",
    "        prompt_category=prompt_category\n",
    "    ),\n",
    "]\n",
    "\n",
    "data = torch.tensor(data, dtype=torch.float32, device=device)"
   ]
  },
  {
   "cell_type": "code",
   "execution_count": 34,
   "metadata": {},
   "outputs": [
    {
     "data": {
      "text/plain": [
       "[0.30523473024368286, 0.30561563372612, 0.3048070967197418, 0.4110106825828552]"
      ]
     },
     "execution_count": 34,
     "metadata": {},
     "output_type": "execute_result"
    }
   ],
   "source": [
    "infer(data)"
   ]
  },
  {
   "cell_type": "code",
   "execution_count": null,
   "metadata": {},
   "outputs": [],
   "source": []
  }
 ],
 "metadata": {
  "kernelspec": {
   "display_name": "rec-llm",
   "language": "python",
   "name": "python3"
  },
  "language_info": {
   "codemirror_mode": {
    "name": "ipython",
    "version": 3
   },
   "file_extension": ".py",
   "mimetype": "text/x-python",
   "name": "python",
   "nbconvert_exporter": "python",
   "pygments_lexer": "ipython3",
   "version": "3.12.2"
  }
 },
 "nbformat": 4,
 "nbformat_minor": 2
}
